{
  "nbformat": 4,
  "nbformat_minor": 0,
  "metadata": {
    "colab": {
      "name": "Testing Jukebox.ipynb",
      "provenance": [],
      "authorship_tag": "ABX9TyPJ/navGVMY7HjVED+G6Mk7",
      "include_colab_link": true
    },
    "kernelspec": {
      "name": "python3",
      "display_name": "Python 3"
    },
    "accelerator": "GPU"
  },
  "cells": [
    {
      "cell_type": "markdown",
      "metadata": {
        "id": "view-in-github",
        "colab_type": "text"
      },
      "source": [
        "<a href=\"https://colab.research.google.com/github/rafaelturon/pocs/blob/master/Testing_Jukebox.ipynb\" target=\"_parent\"><img src=\"https://colab.research.google.com/assets/colab-badge.svg\" alt=\"Open In Colab\"/></a>"
      ]
    },
    {
      "cell_type": "markdown",
      "metadata": {
        "id": "PTt0RFHxfrqN",
        "colab_type": "text"
      },
      "source": [
        "NVIDIA System Management Interface (nvidia-smi) is a command line utility, based on top of the NVIDIA Management Library (NVML), intended to aid in the management and monitoring of NVIDIA GPU devices."
      ]
    },
    {
      "cell_type": "code",
      "metadata": {
        "id": "dvm9hrHldnzH",
        "colab_type": "code",
        "colab": {}
      },
      "source": [
        "!nvidia-smi -L"
      ],
      "execution_count": null,
      "outputs": []
    },
    {
      "cell_type": "markdown",
      "metadata": {
        "id": "98n2oq7ffns9",
        "colab_type": "text"
      },
      "source": [
        "Mount Google Drive to save sample levels as they are generated."
      ]
    },
    {
      "cell_type": "code",
      "metadata": {
        "id": "eG9o9-ERg34D",
        "colab_type": "code",
        "colab": {}
      },
      "source": [
        "from google.colab import drive\n",
        "drive.mount('/content/gdrive')"
      ],
      "execution_count": null,
      "outputs": []
    },
    {
      "cell_type": "markdown",
      "metadata": {
        "id": "3I8JngC1hKns",
        "colab_type": "text"
      },
      "source": [
        "Prepare the environment."
      ]
    },
    {
      "cell_type": "code",
      "metadata": {
        "id": "vq9nKHuWhLZF",
        "colab_type": "code",
        "colab": {}
      },
      "source": [
        "!pip install git+https://github.com/openai/jukebox.git"
      ],
      "execution_count": null,
      "outputs": []
    },
    {
      "cell_type": "code",
      "metadata": {
        "id": "qDxnOe-jhP_4",
        "colab_type": "code",
        "colab": {}
      },
      "source": [
        "import jukebox\n",
        "import torch as t\n",
        "import librosa\n",
        "import os\n",
        "from IPython.display import Audio\n",
        "from jukebox.make_models import make_vqvae, make_prior, MODELS, make_model\n",
        "from jukebox.hparams import Hyperparams, setup_hparams\n",
        "from jukebox.sample import sample_single_window, _sample, \\\n",
        "                           sample_partial_window, upsample, \\\n",
        "                           load_prompts\n",
        "from jukebox.utils.dist_utils import setup_dist_from_mpi\n",
        "from jukebox.utils.torch_utils import empty_cache\n",
        "rank, local_rank, device = setup_dist_from_mpi()"
      ],
      "execution_count": null,
      "outputs": []
    },
    {
      "cell_type": "markdown",
      "metadata": {
        "id": "CRIdDFUOkX9u",
        "colab_type": "text"
      },
      "source": [
        "Sample from the 5B or 1B Lyrics Model"
      ]
    },
    {
      "cell_type": "code",
      "metadata": {
        "id": "nlgj91LvkZX3",
        "colab_type": "code",
        "colab": {}
      },
      "source": [
        "model = \"5b_lyrics\" # or \"1b_lyrics\"\n",
        "hps = Hyperparams()\n",
        "hps.sr = 44100\n",
        "hps.n_samples = 3 if model=='5b_lyrics' else 8\n",
        "# Specifies the directory to save the sample in.\n",
        "# We set this to the Google Drive mount point.\n",
        "hps.name = '/content/gdrive/My Drive/jukebo-samples-gorillaz'\n",
        "chunk_size = 16 if model==\"5b_lyrics\" else 32\n",
        "max_batch_size = 3 if model==\"5b_lyrics\" else 16\n",
        "hps.levels = 3\n",
        "hps.hop_fraction = [.5,.5,.125]\n",
        "\n",
        "vqvae, *priors = MODELS[model]\n",
        "vqvae = make_vqvae(setup_hparams(vqvae, dict(sample_length = 1048576)), device)\n",
        "top_prior = make_prior(setup_hparams(priors[-1], dict()), vqvae, device)"
      ],
      "execution_count": null,
      "outputs": []
    },
    {
      "cell_type": "markdown",
      "metadata": {
        "id": "ZRsbj7bGhbTU",
        "colab_type": "text"
      },
      "source": [
        "To install  youtube-dl right away for all UNIX users (Linux, OS X, etc.), type:\n",
        "\n",
        "```\n",
        "sudo curl -L https://yt-dl.org/downloads/latest/youtube-dl -o /usr/local/bin/youtube-dl\n",
        "\n",
        "sudo chmod a+rx /usr/local/bin/youtube-dl\n",
        "```\n",
        "\n",
        "To download best wav format:\n",
        "\n",
        "\n",
        "```\n",
        "youtube-dl -ci -f 'bestvideo[ext=mp4]+bestaudio' -x --audio-format wav https://www.youtube.com/watch?v=MUSIC-ID\n",
        "```\n",
        "\n",
        "\n",
        "\n"
      ]
    },
    {
      "cell_type": "markdown",
      "metadata": {
        "id": "yLQDG7Nrq_k_",
        "colab_type": "text"
      },
      "source": [
        "# Select mode\n",
        "Run one of these cells to select the desired mode."
      ]
    },
    {
      "cell_type": "code",
      "metadata": {
        "id": "Xz6buYyFrA0r",
        "colab_type": "code",
        "colab": {}
      },
      "source": [
        "# The default mode of operation.\n",
        "# Creates songs based on artist and genre conditioning.\n",
        "mode = 'ancestral'\n",
        "codes_file=None\n",
        "audio_file=None\n",
        "prompt_length_in_seconds=None"
      ],
      "execution_count": null,
      "outputs": []
    },
    {
      "cell_type": "code",
      "metadata": {
        "id": "VcSZd4zXrDOn",
        "colab_type": "code",
        "colab": {}
      },
      "source": [
        "# Prime song creation using an arbitrary audio sample.\n",
        "mode = 'primed'\n",
        "codes_file=None\n",
        "# Specify an audio file here.\n",
        "audio_file = '/content/gdrive/My Drive/gorillaz-clint-eastwood.wav'\n",
        "# Specify how many seconds of audio to prime on.\n",
        "prompt_length_in_seconds=12"
      ],
      "execution_count": null,
      "outputs": []
    },
    {
      "cell_type": "markdown",
      "metadata": {
        "id": "PMLB1NIJuiy8",
        "colab_type": "text"
      },
      "source": [
        "Run this cell to automatically resume from the latest checkpoint file, but only if the checkpoint file exists. This will override the selected mode. We will assume the existance of a checkpoint means generation is complete and it's time for upsamping to occur."
      ]
    },
    {
      "cell_type": "code",
      "metadata": {
        "id": "9hxYBK_PukAg",
        "colab_type": "code",
        "colab": {}
      },
      "source": [
        "if os.path.exists(hps.name):\n",
        "  # Identify the lowest level generated and continue from there.\n",
        "  for level in [1, 2]:\n",
        "    data = f\"{hps.name}/level_{level}/data.pth.tar\"\n",
        "    if os.path.isfile(data):\n",
        "      mode = 'upsample'\n",
        "      codes_file = data\n",
        "      print('Upsampling from level '+str(level))\n",
        "      break\n",
        "print('mode is now '+mode)"
      ],
      "execution_count": null,
      "outputs": []
    },
    {
      "cell_type": "markdown",
      "metadata": {
        "id": "-s6qxaYvuqjf",
        "colab_type": "text"
      },
      "source": [
        "Run the cell below regardless of which mode you chose."
      ]
    },
    {
      "cell_type": "code",
      "metadata": {
        "id": "Sx7HUWgYussT",
        "colab_type": "code",
        "colab": {}
      },
      "source": [
        "sample_hps = Hyperparams(dict(mode=mode, codes_file=codes_file, audio_file=audio_file, prompt_length_in_seconds=prompt_length_in_seconds))"
      ],
      "execution_count": null,
      "outputs": []
    },
    {
      "cell_type": "markdown",
      "metadata": {
        "id": "pwTSLQr9uv4C",
        "colab_type": "text"
      },
      "source": [
        "Specify your choice of artist, genre, lyrics, and length of musical sample."
      ]
    },
    {
      "cell_type": "code",
      "metadata": {
        "id": "ioyDinBbu1eR",
        "colab_type": "code",
        "colab": {}
      },
      "source": [
        "sample_length_in_seconds = 71          # Full length of musical sample to generate - we find songs in the 1 to 4 minute\n",
        "                                       # range work well, with generation time proportional to sample length.  \n",
        "                                       # This total length affects how quickly the model \n",
        "                                       # progresses through lyrics (model also generates differently\n",
        "                                       # depending on if it thinks it's in the beginning, middle, or end of sample)\n",
        "hps.sample_length = (int(sample_length_in_seconds*hps.sr)//top_prior.raw_to_tokens)*top_prior.raw_to_tokens\n",
        "assert hps.sample_length >= top_prior.n_ctx*top_prior.raw_to_tokens, f'Please choose a larger sampling rate'"
      ],
      "execution_count": null,
      "outputs": []
    },
    {
      "cell_type": "code",
      "metadata": {
        "id": "IEhEVasAu8lV",
        "colab_type": "code",
        "colab": {}
      },
      "source": [
        "# Note: Metas can contain different prompts per sample.\n",
        "# By default, all samples use the same prompt.\n",
        "metas = [dict(artist = \"Gorillaz\",\n",
        "            genre = \"Indie\",\n",
        "            total_length = hps.sample_length,\n",
        "            offset = 0,\n",
        "            lyrics = \"\"\"I ain't happy, I'm feeling glad\n",
        "I got sunshine in a bag\n",
        "I'm useless, but not for long\n",
        "The future is coming on\n",
        "\n",
        "I ain't happy, I'm feeling glad\n",
        "I got sunshine, in a bag\n",
        "I'm useless, but not for long\n",
        "The future is coming on\n",
        "It's coming on\n",
        "It's coming on\n",
        "It's coming on\n",
        "\n",
        "Yeah\n",
        "Ha! Ha!\n",
        "\n",
        "Finally someone let me out of my cage\n",
        "Now time for me is nothing, 'cause I'm counting no age\n",
        "Now I couldn't be there, now you shouldn't be scared\n",
        "I'm good at repairs and I'm under each snare\n",
        "Intangible! Bet you didn't think so I command you to\n",
        "Panoramic view, look I'll make it all manageable\n",
        "Pick and choose, sit and lose all you different crews\n",
        "Chicks and dudes, who you think is really kickin' tunes?\n",
        "Picture you gettin' down in a picture tube\n",
        "\n",
        "Like you lit the fuse\n",
        "You think it's fictional, mystical? Maybe!\n",
        "Spiritual, hero who appears\n",
        "In you to clear your view when you're too crazy\n",
        "Lifeless, to know the definition for what life is\n",
        "Priceless for you because I put you on the hype shit\n",
        "You like it?\n",
        "Gun smokin' righteous with one toke\n",
        "You're psychic among those\n",
        "Possess you with one go\n",
        "\n",
        "I ain't happy, I'm feeling glad\n",
        "I got sunshine, in a bag\n",
        "I'm useless,but not for long\n",
        "The future is coming on\n",
        "\n",
        "I ain't happy, I'm feeling glad\n",
        "I got sunshine, in a bag\n",
        "I'm useless, but not for long\n",
        "The future is coming on\n",
        "It's coming on\n",
        "It's coming on\n",
        "It's coming on\n",
        "\n",
        "The essence, the basics\n",
        "Without it, did you make it?\n",
        "Allow me to make this\n",
        "Child-like in nature\n",
        "Rhythm, you have it or you don't\n",
        "That's a fallacy!\n",
        "I'm in them, every sproutin' tree, every child apiece\n",
        "Every cloud at sea, you see with your eyes\n",
        "I see destruction and demise, corruption in disguise\n",
        "From this fuckin' enterprise, now I'm sucked into your lies\n",
        "Through Russel, not his muscles, but percussion he provides\n",
        "For me as a guide\n",
        "Y'all can see me now 'cause you don't see with your eye\n",
        "You perceive with your mind, that's the inner\n",
        "So I'mma stick around with Russ' and be your mentor\n",
        "Bust a few rhymes so motherfuckers remember\n",
        "What the thought is\n",
        "I brought all this so you can survive when law is lawless\n",
        "Feelings, sensations that you thought was dead\n",
        "No squealing, remember (that it's all in your head)\n",
        "\n",
        "I ain't happy, I'm feeling glad\n",
        "I got sunshine, in a bag\n",
        "I'm useless, but not for long\n",
        "The future is coming on\n",
        "I ain't happy, I'm feeling glad\n",
        "I got sunshine, in a bag\n",
        "I'm useless, but not for long\n",
        "\n",
        "My future is coming on\n",
        "It's coming on\n",
        "It's coming on\n",
        "It's coming on\n",
        "It's coming on\n",
        "\n",
        "My future is coming on\n",
        "It's coming on\n",
        "It's coming on\n",
        "It's coming on\n",
        "It's coming on\n",
        "\n",
        "My future is coming on\n",
        "It's coming on\n",
        "It's coming on\n",
        "It's coming on\n",
        "It's coming on\n",
        "\n",
        "My future is coming on\n",
        "It's coming on\n",
        "It's coming on\n",
        "\n",
        "My future is coming on\n",
        "It's coming on\n",
        "It's coming on\n",
        "\n",
        "My future is coming on\n",
        "It's coming on\n",
        "It's coming on\n",
        "My future\n",
        "\"\"\",\n",
        "            ),\n",
        "          ] * hps.n_samples\n",
        "labels = [None, None, top_prior.labeller.get_batch_labels(metas, 'cuda')]"
      ],
      "execution_count": null,
      "outputs": []
    },
    {
      "cell_type": "markdown",
      "metadata": {
        "id": "z-uKifCMvmhY",
        "colab_type": "text"
      },
      "source": [
        "Optionally adjust the sampling temperature (we've found .98 or .99 to be our favorite)."
      ]
    },
    {
      "cell_type": "code",
      "metadata": {
        "id": "Nt3CDww2vqK-",
        "colab_type": "code",
        "colab": {}
      },
      "source": [
        "sampling_temperature = .98\n",
        "\n",
        "lower_batch_size = 16\n",
        "max_batch_size = 3 if model == \"5b_lyrics\" else 16\n",
        "lower_level_chunk_size = 32\n",
        "chunk_size = 16 if model == \"5b_lyrics\" else 32\n",
        "sampling_kwargs = [dict(temp=.99, fp16=True, max_batch_size=lower_batch_size,\n",
        "                        chunk_size=lower_level_chunk_size),\n",
        "                    dict(temp=0.99, fp16=True, max_batch_size=lower_batch_size,\n",
        "                         chunk_size=lower_level_chunk_size),\n",
        "                    dict(temp=sampling_temperature, fp16=True, \n",
        "                         max_batch_size=max_batch_size, chunk_size=chunk_size)]"
      ],
      "execution_count": null,
      "outputs": []
    },
    {
      "cell_type": "markdown",
      "metadata": {
        "id": "xX1yNVstvtGI",
        "colab_type": "text"
      },
      "source": [
        "Now we're ready to sample from the model. We'll generate the top level (2) first, followed by the first upsampling (level 1), and the second upsampling (0). In this CoLab we load the top prior separately from the upsamplers, because of memory concerns on the hosted runtimes. If you are using a local machine, you can also load all models directly with make_models, and then use sample.py's ancestral_sampling to put this all in one step.\n",
        "\n",
        "After each level, we decode to raw audio and save the audio files.\n",
        "\n",
        "This next cell will take a while (approximately 10 minutes per 20 seconds of music sample)"
      ]
    },
    {
      "cell_type": "code",
      "metadata": {
        "id": "Ue7Q1auqvwmH",
        "colab_type": "code",
        "colab": {}
      },
      "source": [
        "if sample_hps.mode == 'ancestral':\n",
        "  zs = [t.zeros(hps.n_samples,0,dtype=t.long, device='cuda') for _ in range(len(priors))]\n",
        "  zs = _sample(zs, labels, sampling_kwargs, [None, None, top_prior], [2], hps)\n",
        "elif sample_hps.mode == 'upsample':\n",
        "  assert sample_hps.codes_file is not None\n",
        "  # Load codes.\n",
        "  data = t.load(sample_hps.codes_file, map_location='cpu')\n",
        "  zs = [z.cuda() for z in data['zs']]\n",
        "  assert zs[-1].shape[0] == hps.n_samples, f\"Expected bs = {hps.n_samples}, got {zs[-1].shape[0]}\"\n",
        "  del data\n",
        "  print('Falling through to the upsample step later in the notebook.')\n",
        "elif sample_hps.mode == 'primed':\n",
        "  assert sample_hps.audio_file is not None\n",
        "  audio_files = sample_hps.audio_file.split(',')\n",
        "  duration = (int(sample_hps.prompt_length_in_seconds*hps.sr)//top_prior.raw_to_tokens)*top_prior.raw_to_tokens\n",
        "  x = load_prompts(audio_files, duration, hps)\n",
        "  zs = top_prior.encode(x, start_level=0, end_level=len(priors), bs_chunks=x.shape[0])\n",
        "  zs = _sample(zs, labels, sampling_kwargs, [None, None, top_prior], [2], hps)\n",
        "else:\n",
        "  raise ValueError(f'Unknown sample mode {sample_hps.mode}.')"
      ],
      "execution_count": null,
      "outputs": []
    },
    {
      "cell_type": "markdown",
      "metadata": {
        "id": "hMyLdZhnv0XW",
        "colab_type": "text"
      },
      "source": [
        "Listen to the results from the top level (note this will sound very noisy until we do the upsampling stage). You may have more generated samples, depending on the batch size you requested."
      ]
    },
    {
      "cell_type": "code",
      "metadata": {
        "id": "LDdVZqWdv24h",
        "colab_type": "code",
        "colab": {}
      },
      "source": [
        "Audio(f'{hps.name}/level_2/item_0.wav')"
      ],
      "execution_count": null,
      "outputs": []
    },
    {
      "cell_type": "markdown",
      "metadata": {
        "id": "qeSHK1aFv5Zf",
        "colab_type": "text"
      },
      "source": [
        "We are now done with the large top_prior model, and instead load the upsamplers."
      ]
    },
    {
      "cell_type": "code",
      "metadata": {
        "id": "FBRR7KzLv7zA",
        "colab_type": "code",
        "colab": {}
      },
      "source": [
        "# Set this False if you are on a local machine that has enough memory (this allows you to do the\n",
        "# lyrics alignment visualization during the upsampling stage). For a hosted runtime, \n",
        "# we'll need to go ahead and delete the top_prior if you are using the 5b_lyrics model.\n",
        "if True:\n",
        "  del top_prior\n",
        "  empty_cache()\n",
        "  top_prior=None\n",
        "upsamplers = [make_prior(setup_hparams(prior, dict()), vqvae, 'cpu') for prior in priors[:-1]]\n",
        "labels[:2] = [prior.labeller.get_batch_labels(metas, 'cuda') for prior in upsamplers]"
      ],
      "execution_count": null,
      "outputs": []
    },
    {
      "cell_type": "markdown",
      "metadata": {
        "id": "q9JWnJInv_y4",
        "colab_type": "text"
      },
      "source": [
        "Please note: this next upsampling step will take several hours. At the free tier, Google CoLab lets you run for 12 hours. As the upsampling is completed, samples will appear in the Files tab (you can access this at the left of the CoLab), under \"samples\" (or whatever hps.name is currently). Level 1 is the partially upsampled version, and then Level 0 is fully completed."
      ]
    },
    {
      "cell_type": "code",
      "metadata": {
        "id": "eo4EX5tTwDed",
        "colab_type": "code",
        "colab": {}
      },
      "source": [
        "zs = upsample(zs, labels, sampling_kwargs, [*upsamplers, top_prior], hps)"
      ],
      "execution_count": null,
      "outputs": []
    },
    {
      "cell_type": "markdown",
      "metadata": {
        "id": "QA2aU_VdwF5C",
        "colab_type": "text"
      },
      "source": [
        "Listen to your final sample!"
      ]
    },
    {
      "cell_type": "code",
      "metadata": {
        "id": "gMdiq1nrwIZF",
        "colab_type": "code",
        "colab": {}
      },
      "source": [
        "Audio(f'{hps.name}/level_0/item_0.wav')"
      ],
      "execution_count": null,
      "outputs": []
    },
    {
      "cell_type": "code",
      "metadata": {
        "id": "xiZGpnbhwKwe",
        "colab_type": "code",
        "colab": {}
      },
      "source": [
        "del upsamplers\n",
        "empty_cache()"
      ],
      "execution_count": null,
      "outputs": []
    }
  ]
}