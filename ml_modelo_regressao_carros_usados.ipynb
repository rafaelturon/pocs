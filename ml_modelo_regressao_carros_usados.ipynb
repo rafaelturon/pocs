{
  "nbformat": 4,
  "nbformat_minor": 0,
  "metadata": {
    "name": "ml-modelo-regressao-carros-usados",
    "notebookId": 1148180762024892,
    "colab": {
      "name": "ml-modelo-regressao-carros-usados.ipynb",
      "provenance": [],
      "include_colab_link": true
    },
    "kernelspec": {
      "name": "python3",
      "display_name": "Python 3"
    }
  },
  "cells": [
    {
      "cell_type": "markdown",
      "metadata": {
        "id": "view-in-github",
        "colab_type": "text"
      },
      "source": [
        "<a href=\"https://colab.research.google.com/github/rafaelturon/pocs/blob/master/ml_modelo_regressao_carros_usados.ipynb\" target=\"_parent\"><img src=\"https://colab.research.google.com/assets/colab-badge.svg\" alt=\"Open In Colab\"/></a>"
      ]
    },
    {
      "cell_type": "markdown",
      "metadata": {
        "id": "yvl7_kH_AMQy",
        "colab_type": "text"
      },
      "source": [
        "#Machine Learning\n",
        "###Exemplo de modelo de regressão p/ previsão de preços de venda de carros usados\n",
        "* Este tutorial foi inspirado no repositório [Machine Learning](https://github.com/lfbraz/azure-databricks/blob/master/notebooks/ml-modelo-regressao-carros-usados.ipynb)."
      ]
    },
    {
      "cell_type": "markdown",
      "metadata": {
        "id": "ufSmEwgoAMQ5",
        "colab_type": "text"
      },
      "source": [
        "### Neste tutorial faremos uma [regressão linear simples](https://pt.wikipedia.org/wiki/Regress%C3%A3o_linear_simples) em que o objetivo será prever o PREÇO (y) de venda de um determinado modelo de veículo se baseando em algumas variáveis de entrada (X) \n",
        "\n",
        "A base de dados utilizada pode ser obtida no [link](https://github.com/lfbraz/machine-learning-tutorial/blob/master/datasets/dataset-carros-usados.csv) e foi baseada na versão [original](https://databricksdemostore.blob.core.windows.net/data/02.02/UsedCars.csv) disponibilizada pela Databricks, em que foi adaptada e traduzida para Português-Brasil."
      ]
    },
    {
      "cell_type": "markdown",
      "metadata": {
        "id": "MhwVWjSvAMQ6",
        "colab_type": "text"
      },
      "source": [
        "##Importar base de dados\n",
        "Utilizarei o [Google Colab](https://colab.research.google.com/) para treino do modelo, porém este tutorial pode ser utilizado com qualquer plataforma (sendo necessário apenas que o método de importação seja adaptado)."
      ]
    },
    {
      "cell_type": "markdown",
      "metadata": {
        "id": "Qr0pHRftGLF-",
        "colab_type": "text"
      },
      "source": [
        "# **Running Pyspark in Colab**\n",
        "\n",
        "Spark is a unified analytics engine for large-scale data processing. It provides high-level APIs in Scala, Java, Python, and R, and an optimized engine that supports general computation graphs for data analysis. It also supports a rich set of higher-level tools including Spark SQL for SQL and DataFrames, MLlib for machine learning, GraphX for graph processing, and Structured Streaming for stream processing.\n",
        "\n",
        "https://spark.apache.org/"
      ]
    },
    {
      "cell_type": "code",
      "metadata": {
        "id": "z4vZ32bUGSP_",
        "colab_type": "code",
        "colab": {
          "base_uri": "https://localhost:8080/",
          "height": 258
        },
        "outputId": "a3447491-681d-40e7-db4b-6b38a247588e"
      },
      "source": [
        "!pip install pyspark"
      ],
      "execution_count": 9,
      "outputs": [
        {
          "output_type": "stream",
          "text": [
            "Collecting pyspark\n",
            "\u001b[?25l  Downloading https://files.pythonhosted.org/packages/f0/26/198fc8c0b98580f617cb03cb298c6056587b8f0447e20fa40c5b634ced77/pyspark-3.0.1.tar.gz (204.2MB)\n",
            "\u001b[K     |████████████████████████████████| 204.2MB 64kB/s \n",
            "\u001b[?25hCollecting py4j==0.10.9\n",
            "\u001b[?25l  Downloading https://files.pythonhosted.org/packages/9e/b6/6a4fb90cd235dc8e265a6a2067f2a2c99f0d91787f06aca4bcf7c23f3f80/py4j-0.10.9-py2.py3-none-any.whl (198kB)\n",
            "\u001b[K     |████████████████████████████████| 204kB 37.7MB/s \n",
            "\u001b[?25hBuilding wheels for collected packages: pyspark\n",
            "  Building wheel for pyspark (setup.py) ... \u001b[?25l\u001b[?25hdone\n",
            "  Created wheel for pyspark: filename=pyspark-3.0.1-py2.py3-none-any.whl size=204612243 sha256=1e3c44bd48ecaebaa7b9b2887e2b1c954e386fd4017ad941977c033095845a09\n",
            "  Stored in directory: /root/.cache/pip/wheels/5e/bd/07/031766ca628adec8435bb40f0bd83bb676ce65ff4007f8e73f\n",
            "Successfully built pyspark\n",
            "Installing collected packages: py4j, pyspark\n",
            "Successfully installed py4j-0.10.9 pyspark-3.0.1\n"
          ],
          "name": "stdout"
        }
      ]
    },
    {
      "cell_type": "markdown",
      "metadata": {
        "id": "fiY9D7fXAMRB",
        "colab_type": "text"
      },
      "source": [
        "##Ler o arquivo .csv em um Spark DataFrame\n",
        "\n",
        "Utilizaremos as segmentos opções: <br/>\n",
        "<br/>\n",
        "* format: CSV\n",
        "* inferSchema: true / Permite que os tipos de dados sejam automaticamente inferidos\n",
        "* header: true / Primeira linha será entendida como o cabeçalho\n",
        "* sep: \";\" / Será utilizado como delimitador de colunas o carácter \";\"\n",
        "* load: path / O caminho do arquivo que será carregado"
      ]
    },
    {
      "cell_type": "code",
      "metadata": {
        "id": "PGn4CIpfAMRC",
        "colab_type": "code",
        "colab": {}
      },
      "source": [
        "import pyspark\n",
        "from pyspark import SparkFiles\n",
        "\n",
        "filename = \"dataset-carros-usados.csv\"\n",
        "url = \"https://raw.githubusercontent.com/lfbraz/machine-learning-tutorial/master/datasets/{}\".format(filename)\n",
        "\n",
        "spark = SparkSession.builder.appName('pandasToSparkDF').getOrCreate()\n",
        "spark.sparkContext.addFile(url)\n",
        "\n",
        "file_type = \"csv\"\n",
        "infer_schema = \"true\"\n",
        "first_row_is_header = \"true\"\n",
        "delimiter = \";\"\n",
        "\n",
        "carros_usados = spark.read.format(file_type) \\\n",
        "                     .option(\"inferSchema\", infer_schema) \\\n",
        "                     .option(\"header\", first_row_is_header) \\\n",
        "                     .option(\"sep\", delimiter) \\\n",
        "                     .load(\"file://\"+SparkFiles.get(filename))"
      ],
      "execution_count": null,
      "outputs": []
    },
    {
      "cell_type": "markdown",
      "metadata": {
        "id": "gMQw2bWhAMRJ",
        "colab_type": "text"
      },
      "source": [
        "## Visualização dos Dados\n",
        "\n",
        "A tabela de carros usados possui os seguintes campos:<br/>\n",
        "<br/>\n",
        "* **PRECO**: Preço de venda do veículo (variável target / previsão)\n",
        "* **IDADE_ANOS**: Número de anos desde a data de fabricação do veículo\n",
        "* **KM**: Número de kilometros rodados pelo veículo\n",
        "* **TIPO_COMBUSTIVEL**: Tipo de combustível utilizado\n",
        "* **[HP](https://en.wikipedia.org/wiki/Horsepower)**: Medida de potência do veículo\n",
        "* **COR_METALICA**: Indica se o veículo possui cor metálica (1 para sim e 0 para não). Pode indicar maior valorização\n",
        "* **AUTOMATICO**: Indica se o veículo é automático (1 para sim e 0 para não)\n",
        "* **[CC](https://pt.wikipedia.org/wiki/Cilindrada)**: Cilindradas do veículo\n",
        "* **QTD_PORTAS**: Número de portas do veículo\n",
        "* **PESO_KG**: Peso em quilograma do veículo\n",
        "\n",
        "Com o comando `display(carros_usados)` podemos analisar o DataFrame"
      ]
    },
    {
      "cell_type": "code",
      "metadata": {
        "id": "RMKhrIPwAMRb",
        "colab_type": "code",
        "colab": {
          "base_uri": "https://localhost:8080/",
          "height": 204
        },
        "outputId": "c56b4d4d-a181-4c45-9934-64c4ae55d766"
      },
      "source": [
        "carros_usados.show(n=5)"
      ],
      "execution_count": 24,
      "outputs": [
        {
          "output_type": "stream",
          "text": [
            "+-------+----------+--------+----------------+---+------------+----------+----+----------+-------+\n",
            "|  PRECO|IDADE_ANOS|      KM|TIPO_COMBUSTIVEL| HP|COR_METALICA|AUTOMATICO|  CC|QTD_PORTAS|PESO_KG|\n",
            "+-------+----------+--------+----------------+---+------------+----------+----+----------+-------+\n",
            "| 7450.0|      65.0| 82000.0|        GASOLINA| 86|           1|         0|1300|         3|   1015|\n",
            "| 7250.0|      74.0|130025.0|        GASOLINA|110|           1|         0|1600|         3|   1050|\n",
            "| 8950.0|      80.0| 64000.0|        GASOLINA|110|           0|         0|1600|         3|   1055|\n",
            "|11450.0|      54.0| 62987.0|        GASOLINA|110|           0|         0|1600|         5|   1080|\n",
            "|   null|      42.0| 38932.0|        GASOLINA|110|           1|         0|1600|         3|   1040|\n",
            "+-------+----------+--------+----------------+---+------------+----------+----+----------+-------+\n",
            "only showing top 5 rows\n",
            "\n"
          ],
          "name": "stdout"
        }
      ]
    },
    {
      "cell_type": "markdown",
      "metadata": {
        "id": "NK3bmiQ0AMRe",
        "colab_type": "text"
      },
      "source": [
        "Executamos o Display do DataFrame podemos na própria célula indicar os tipos de gráficos que queremos visualizar (clicando no icone gráfico abaixo do DataFrame e em `PlotOptions`).\n",
        "\n",
        "Abaixo é possível com o comando `Display` exibir uma visualização por Tipo de Combustível e Preço (utilizando 30 `bins` [número de colunas] ) alterando-se o `Plot Options` (somente disponível para Azure Databricks)."
      ]
    },
    {
      "cell_type": "code",
      "metadata": {
        "id": "0rI8n0pdAMRf",
        "colab_type": "code",
        "colab": {
          "base_uri": "https://localhost:8080/",
          "height": 54
        },
        "outputId": "83faeb67-5b1e-443a-cfb0-b7ecaac1bc8b"
      },
      "source": [
        "display(carros_usados)"
      ],
      "execution_count": 25,
      "outputs": [
        {
          "output_type": "display_data",
          "data": {
            "text/plain": [
              "DataFrame[PRECO: double, IDADE_ANOS: double, KM: double, TIPO_COMBUSTIVEL: string, HP: int, COR_METALICA: int, AUTOMATICO: int, CC: int, QTD_PORTAS: int, PESO_KG: int]"
            ]
          },
          "metadata": {
            "tags": []
          }
        }
      ]
    },
    {
      "cell_type": "markdown",
      "metadata": {
        "id": "huVpGIB3AMRj",
        "colab_type": "text"
      },
      "source": [
        "Também podemos utilizar outras bibliotecas para análise gráfica como o `matplotlib` ou `seaborn`. Neste caso pode-se converter o DataFrame Spark para um DataFrame Pandas (com isso a performance pode ser degradada).\n",
        "\n",
        "Abaixo um [histograma](https://pt.wikipedia.org/wiki/Histograma) gerado a partir do preço de venda do veículo utilizando o matplotlib a partir de um [DataFrame do Pandas](https://pandas.pydata.org/pandas-docs/stable/reference/api/pandas.DataFrame.html)."
      ]
    },
    {
      "cell_type": "code",
      "metadata": {
        "id": "q5y336WbAMRj",
        "colab_type": "code",
        "colab": {
          "base_uri": "https://localhost:8080/",
          "height": 282
        },
        "outputId": "be0e3800-32da-45fa-e711-225f91dee5a2"
      },
      "source": [
        "import matplotlib.pyplot as plt\n",
        "%matplotlib inline \n",
        "\n",
        "display(carros_usados.toPandas().plot(kind='hist', y='PRECO'))"
      ],
      "execution_count": 26,
      "outputs": [
        {
          "output_type": "display_data",
          "data": {
            "text/plain": [
              "<matplotlib.axes._subplots.AxesSubplot at 0x7f482dad67f0>"
            ]
          },
          "metadata": {
            "tags": []
          }
        },
        {
          "output_type": "display_data",
          "data": {
            "image/png": "[encoded data removed]",
            "text/plain": [
              "<Figure size 432x288 with 1 Axes>"
            ]
          },
          "metadata": {
            "tags": [],
            "needs_background": "light"
          }
        }
      ]
    },
    {
      "cell_type": "markdown",
      "metadata": {
        "id": "mpGHeZBZAMRn",
        "colab_type": "text"
      },
      "source": [
        "# Criando uma regressão linear simples"
      ]
    },
    {
      "cell_type": "markdown",
      "metadata": {
        "id": "7HIAdKwGAMRo",
        "colab_type": "text"
      },
      "source": [
        "Podemos iniciar investigando se a idade do veículo pode influenciar seu preço de venda."
      ]
    },
    {
      "cell_type": "code",
      "metadata": {
        "id": "_AVJ-ohNAMRp",
        "colab_type": "code",
        "colab": {
          "base_uri": "https://localhost:8080/",
          "height": 573
        },
        "outputId": "2dd4dae3-9d58-48c9-d587-bea7bd939bb9"
      },
      "source": [
        "carros_usados_pd = carros_usados.toPandas()\n",
        "\n",
        "fig, ax = plt.subplots()\n",
        "\n",
        "# Populate the figure\n",
        "plt.scatter(carros_usados_pd['IDADE_ANOS'], carros_usados_pd['PRECO'])\n",
        "\n",
        "# Set various labels\n",
        "plt.title('Preço dos carros usados como uma função da idade')\n",
        "plt.ylabel('Preço [R$]')\n",
        "plt.xlabel('Idade [Meses]')\n",
        "\n",
        "# Extras?\n",
        "plt.grid() # Turn plot-grid on\n",
        "\n",
        "# Show figure\n",
        "display(fig)"
      ],
      "execution_count": 27,
      "outputs": [
        {
          "output_type": "display_data",
          "data": {
            "image/png": "[encoded data removed]",
            "text/plain": [
              "<Figure size 432x288 with 1 Axes>"
            ]
          },
          "metadata": {
            "tags": []
          }
        },
        {
          "output_type": "display_data",
          "data": {
            "image/png": "[encoded data removed]",
            "text/plain": [
              "<Figure size 432x288 with 1 Axes>"
            ]
          },
          "metadata": {
            "tags": [],
            "needs_background": "light"
          }
        }
      ]
    },
    {
      "cell_type": "markdown",
      "metadata": {
        "id": "o_SN4JJgAMRu",
        "colab_type": "text"
      },
      "source": [
        "Repare que quanto maior a idade do veículo menor o seu preço de venda (make sense??).\n",
        "\n",
        "Geralmente quando falamos em Machine Learning (aprendizado de máquina) estamos pensando em uma tarefa específica. No nosso caso, a tarefa básica \n",
        "é a de **prever o preço de venda de um veículo** utilizando para isso dados históricos de vendas de outros veículos.\n",
        "\n",
        "Regressão Linear é uma das primeiras técnicas estatísticas aprendidas para previsão de dados que se comportam de forma linear 🙄. <br/><br/>\n",
        "E o que isso significa ? Basicamente estamos falando que quando uma variável cresce (ou diminui) outra variável também têm o mesmo comportamento, como por exemplo, o **PREÇO** do veículo com a sua **IDADE** em meses (que acabamos de analisar de forma gráfica).\n",
        "\n",
        "Este comportamento, para os mais entendidos, é feito através da famosa equação \\\\(y = ax + b\\\\).\n",
        "\n",
        "No exemplo dado estamos falando apenas na relação de duas variáveis (PREÇO e IDADE), porém a ideia é utilizar diferentes variáveis no mesmo modelo linear.\n",
        "\n",
        "Neste tipo de situação (que é a mais comum) a visualização é mais complexa pois a previsão não se dará por uma única reta (mas sim por hiperplanos 😳). Quem quiser entender mais sobre isso, recomendo o vídeo [Regressão Linear Múltipla](https://drive.google.com/file/d/1MKIO-oe8mtz92rlZp3eZJIYVmQSpW0Pi/view) de uma aula dada no IME/USP sobre o assunto."
      ]
    },
    {
      "cell_type": "markdown",
      "metadata": {
        "id": "_iNf21LDAMRv",
        "colab_type": "text"
      },
      "source": [
        "## Tratamento dos dados\n",
        "Antes de aplicarmos um modelo de Regressão Linear precisamos primeiramente tratar os dados que serão ENTRADA do modelo, isto é, precisaremos limpar, padronizar e enriquecer os dados que serão utilizados para treinamento do modelo."
      ]
    },
    {
      "cell_type": "code",
      "metadata": {
        "id": "u9IkHSeaAMRv",
        "colab_type": "code",
        "colab": {
          "base_uri": "https://localhost:8080/",
          "height": 204
        },
        "outputId": "4e9746ac-7200-44c5-e6de-161049a16b6c"
      },
      "source": [
        "carros_usados.show(n=5)"
      ],
      "execution_count": 28,
      "outputs": [
        {
          "output_type": "stream",
          "text": [
            "+-------+----------+--------+----------------+---+------------+----------+----+----------+-------+\n",
            "|  PRECO|IDADE_ANOS|      KM|TIPO_COMBUSTIVEL| HP|COR_METALICA|AUTOMATICO|  CC|QTD_PORTAS|PESO_KG|\n",
            "+-------+----------+--------+----------------+---+------------+----------+----+----------+-------+\n",
            "| 7450.0|      65.0| 82000.0|        GASOLINA| 86|           1|         0|1300|         3|   1015|\n",
            "| 7250.0|      74.0|130025.0|        GASOLINA|110|           1|         0|1600|         3|   1050|\n",
            "| 8950.0|      80.0| 64000.0|        GASOLINA|110|           0|         0|1600|         3|   1055|\n",
            "|11450.0|      54.0| 62987.0|        GASOLINA|110|           0|         0|1600|         5|   1080|\n",
            "|   null|      42.0| 38932.0|        GASOLINA|110|           1|         0|1600|         3|   1040|\n",
            "+-------+----------+--------+----------------+---+------------+----------+----+----------+-------+\n",
            "only showing top 5 rows\n",
            "\n"
          ],
          "name": "stdout"
        }
      ]
    },
    {
      "cell_type": "markdown",
      "metadata": {
        "id": "HsHl5czwAMR_",
        "colab_type": "text"
      },
      "source": [
        "O primeiro ponto importante é analisarmos se existem valores faltantes para cada uma das colunas que serão utilizadas no modelo. \n",
        "\n",
        "Repare que existem valores `null` (faltantes) no conjunto de dados analisado. Podemos checar estes valores através do comando abaixo:"
      ]
    },
    {
      "cell_type": "code",
      "metadata": {
        "id": "pG52BWnmAMSA",
        "colab_type": "code",
        "colab": {
          "base_uri": "https://localhost:8080/",
          "height": 1000
        },
        "outputId": "602670ab-0499-443b-a4a3-81d8d2c47d67"
      },
      "source": [
        "from pyspark.sql.functions import isnan, when, col\n",
        "\n",
        "for c in carros_usados.columns:\n",
        "  carros_usados.where(col(c).isNull()).show()"
      ],
      "execution_count": 29,
      "outputs": [
        {
          "output_type": "stream",
          "text": [
            "+-----+----------+--------+----------------+---+------------+----------+----+----------+-------+\n",
            "|PRECO|IDADE_ANOS|      KM|TIPO_COMBUSTIVEL| HP|COR_METALICA|AUTOMATICO|  CC|QTD_PORTAS|PESO_KG|\n",
            "+-----+----------+--------+----------------+---+------------+----------+----+----------+-------+\n",
            "| null|      42.0| 38932.0|        GASOLINA|110|           1|         0|1600|         3|   1040|\n",
            "| null|      60.0|    null|        GASOLINA|110|           1|         0|1600|         5|   1070|\n",
            "| null|      64.0|    null|          DIESEL| 72|           1|         0|2000|         5|   1135|\n",
            "| null|      null| 71000.0|        GASOLINA|110|           0|         0|1600|         5|   1070|\n",
            "| null|      null| 60239.0|        GASOLINA|110|           1|         0|1600|         5|   1075|\n",
            "| null|      null|    null|        GASOLINA| 86|           1|         0|1300|         3|   1015|\n",
            "| null|      72.0|105856.0|        GASOLINA| 86|           0|         0|1300|         3|   1015|\n",
            "+-----+----------+--------+----------------+---+------------+----------+----+----------+-------+\n",
            "\n",
            "+-------+----------+-------+----------------+---+------------+----------+----+----------+-------+\n",
            "|  PRECO|IDADE_ANOS|     KM|TIPO_COMBUSTIVEL| HP|COR_METALICA|AUTOMATICO|  CC|QTD_PORTAS|PESO_KG|\n",
            "+-------+----------+-------+----------------+---+------------+----------+----+----------+-------+\n",
            "|   null|      null|71000.0|        GASOLINA|110|           0|         0|1600|         5|   1070|\n",
            "|   null|      null|60239.0|        GASOLINA|110|           1|         0|1600|         5|   1075|\n",
            "|   null|      null|   null|        GASOLINA| 86|           1|         0|1300|         3|   1015|\n",
            "| 9950.0|      null|   null|        GASOLINA|110|           1|         0|1600|         3|   1065|\n",
            "|10500.0|      null|   null|        GASOLINA| 97|           0|         0|1400|         3|   1025|\n",
            "+-------+----------+-------+----------------+---+------------+----------+----+----------+-------+\n",
            "\n",
            "+-------+----------+----+----------------+---+------------+----------+----+----------+-------+\n",
            "|  PRECO|IDADE_ANOS|  KM|TIPO_COMBUSTIVEL| HP|COR_METALICA|AUTOMATICO|  CC|QTD_PORTAS|PESO_KG|\n",
            "+-------+----------+----+----------------+---+------------+----------+----+----------+-------+\n",
            "|   null|      60.0|null|        GASOLINA|110|           1|         0|1600|         5|   1070|\n",
            "|   null|      64.0|null|          DIESEL| 72|           1|         0|2000|         5|   1135|\n",
            "|   null|      null|null|        GASOLINA| 86|           1|         0|1300|         3|   1015|\n",
            "| 8250.0|      57.0|null|          DIESEL| 72|           0|         0|2000|         3|   1115|\n",
            "| 9950.0|      null|null|        GASOLINA|110|           1|         0|1600|         3|   1065|\n",
            "|10500.0|      null|null|        GASOLINA| 97|           0|         0|1400|         3|   1025|\n",
            "+-------+----------+----+----------------+---+------------+----------+----+----------+-------+\n",
            "\n",
            "+-----+----------+---+----------------+---+------------+----------+---+----------+-------+\n",
            "|PRECO|IDADE_ANOS| KM|TIPO_COMBUSTIVEL| HP|COR_METALICA|AUTOMATICO| CC|QTD_PORTAS|PESO_KG|\n",
            "+-----+----------+---+----------------+---+------------+----------+---+----------+-------+\n",
            "+-----+----------+---+----------------+---+------------+----------+---+----------+-------+\n",
            "\n",
            "+-----+----------+---+----------------+---+------------+----------+---+----------+-------+\n",
            "|PRECO|IDADE_ANOS| KM|TIPO_COMBUSTIVEL| HP|COR_METALICA|AUTOMATICO| CC|QTD_PORTAS|PESO_KG|\n",
            "+-----+----------+---+----------------+---+------------+----------+---+----------+-------+\n",
            "+-----+----------+---+----------------+---+------------+----------+---+----------+-------+\n",
            "\n",
            "+-----+----------+---+----------------+---+------------+----------+---+----------+-------+\n",
            "|PRECO|IDADE_ANOS| KM|TIPO_COMBUSTIVEL| HP|COR_METALICA|AUTOMATICO| CC|QTD_PORTAS|PESO_KG|\n",
            "+-----+----------+---+----------------+---+------------+----------+---+----------+-------+\n",
            "+-----+----------+---+----------------+---+------------+----------+---+----------+-------+\n",
            "\n",
            "+-----+----------+---+----------------+---+------------+----------+---+----------+-------+\n",
            "|PRECO|IDADE_ANOS| KM|TIPO_COMBUSTIVEL| HP|COR_METALICA|AUTOMATICO| CC|QTD_PORTAS|PESO_KG|\n",
            "+-----+----------+---+----------------+---+------------+----------+---+----------+-------+\n",
            "+-----+----------+---+----------------+---+------------+----------+---+----------+-------+\n",
            "\n",
            "+-----+----------+---+----------------+---+------------+----------+---+----------+-------+\n",
            "|PRECO|IDADE_ANOS| KM|TIPO_COMBUSTIVEL| HP|COR_METALICA|AUTOMATICO| CC|QTD_PORTAS|PESO_KG|\n",
            "+-----+----------+---+----------------+---+------------+----------+---+----------+-------+\n",
            "+-----+----------+---+----------------+---+------------+----------+---+----------+-------+\n",
            "\n",
            "+-----+----------+---+----------------+---+------------+----------+---+----------+-------+\n",
            "|PRECO|IDADE_ANOS| KM|TIPO_COMBUSTIVEL| HP|COR_METALICA|AUTOMATICO| CC|QTD_PORTAS|PESO_KG|\n",
            "+-----+----------+---+----------------+---+------------+----------+---+----------+-------+\n",
            "+-----+----------+---+----------------+---+------------+----------+---+----------+-------+\n",
            "\n",
            "+-----+----------+---+----------------+---+------------+----------+---+----------+-------+\n",
            "|PRECO|IDADE_ANOS| KM|TIPO_COMBUSTIVEL| HP|COR_METALICA|AUTOMATICO| CC|QTD_PORTAS|PESO_KG|\n",
            "+-----+----------+---+----------------+---+------------+----------+---+----------+-------+\n",
            "+-----+----------+---+----------------+---+------------+----------+---+----------+-------+\n",
            "\n"
          ],
          "name": "stdout"
        }
      ]
    },
    {
      "cell_type": "markdown",
      "metadata": {
        "id": "egdapAjUAMSD",
        "colab_type": "text"
      },
      "source": [
        "Existem diversas técnicas de tratamento de valores faltantes (substituição pela média, moda, etc). Para simplificarmos, o processo vamos simplesmente remover toda a linha em que seja encontrado algum valor faltante."
      ]
    },
    {
      "cell_type": "code",
      "metadata": {
        "id": "1efIDWH7AMSE",
        "colab_type": "code",
        "colab": {}
      },
      "source": [
        "carros_usados = carros_usados.na.drop()"
      ],
      "execution_count": 30,
      "outputs": []
    },
    {
      "cell_type": "markdown",
      "metadata": {
        "id": "gRMhGT9yAMSI",
        "colab_type": "text"
      },
      "source": [
        "Outro ponto importante é analisarmos o *TIPO* das variáveis de entrada. Repare que a variável **TIPO_COMBUSTIVEL** é uma variável categórica em formato TEXTO e quando falamos em modelos de aprendizado de máquina precisamos que todas as variáveis de *INPUT* sejam de alguma forma retratadas de forma numérica. Desta forma, o modelo (que nada mais é do que uma expressão matemática, muitas vezes extremamente complexa) conseguirá utilizar os dados de forma apropriada."
      ]
    },
    {
      "cell_type": "markdown",
      "metadata": {
        "id": "tAcyAj5mAMSN",
        "colab_type": "text"
      },
      "source": [
        "Para tratamento da variável utilizaremos as técnicas `StringIndexer` e `OneHotEncoder` que permitem representar as varíaveis categóricas em um formato vetorial binário. \n",
        "\n",
        "Com a `StringIndexer` representaremos as varíaveis categóricas de forma numérica (ex: GASOLINA=0, DIESEL=1, etc)."
      ]
    },
    {
      "cell_type": "code",
      "metadata": {
        "id": "vxix2Z0aAMSO",
        "colab_type": "code",
        "colab": {
          "base_uri": "https://localhost:8080/",
          "height": 459
        },
        "outputId": "67d062a8-c63c-4a41-e79a-534136f19811"
      },
      "source": [
        "from pyspark.ml.feature import StringIndexer\n",
        "\n",
        "indexer = StringIndexer(inputCol='TIPO_COMBUSTIVEL', outputCol='TIPO_COMBUSTIVEL_index')\n",
        "indexed = indexer.fit(carros_usados).transform(carros_usados)\n",
        "indexed.show()"
      ],
      "execution_count": 32,
      "outputs": [
        {
          "output_type": "stream",
          "text": [
            "+-------+----------+--------+--------------------+---+------------+----------+----+----------+-------+----------------------+\n",
            "|  PRECO|IDADE_ANOS|      KM|    TIPO_COMBUSTIVEL| HP|COR_METALICA|AUTOMATICO|  CC|QTD_PORTAS|PESO_KG|TIPO_COMBUSTIVEL_index|\n",
            "+-------+----------+--------+--------------------+---+------------+----------+----+----------+-------+----------------------+\n",
            "| 7450.0|      65.0| 82000.0|            GASOLINA| 86|           1|         0|1300|         3|   1015|                   0.0|\n",
            "| 7250.0|      74.0|130025.0|            GASOLINA|110|           1|         0|1600|         3|   1050|                   0.0|\n",
            "| 8950.0|      80.0| 64000.0|            GASOLINA|110|           0|         0|1600|         3|   1055|                   0.0|\n",
            "|11450.0|      54.0| 62987.0|            GASOLINA|110|           0|         0|1600|         5|   1080|                   0.0|\n",
            "| 6950.0|      80.0| 62581.0|            GASOLINA|110|           0|         0|1600|         5|   1075|                   0.0|\n",
            "| 8250.0|      70.0| 59017.0|            GASOLINA|107|           1|         1|1600|         3|   1080|                   0.0|\n",
            "|12950.0|      44.0| 41499.0|GAS_NATURAL_COMPR...|110|           1|         0|1600|         5|   1103|                   2.0|\n",
            "| 9950.0|      65.0| 65513.0|            GASOLINA|110|           1|         1|1600|         4|   1070|                   0.0|\n",
            "| 7900.0|      75.0|125400.0|            GASOLINA|110|           0|         0|1600|         3|   1050|                   0.0|\n",
            "| 6495.0|      74.0| 96302.0|            GASOLINA| 86|           1|         0|1300|         3|   1015|                   0.0|\n",
            "| 9500.0|      66.0| 74963.0|            GASOLINA|107|           0|         1|1600|         3|   1085|                   0.0|\n",
            "| 6490.0|      80.0|100123.0|            GASOLINA|110|           1|         0|1600|         3|   1050|                   0.0|\n",
            "| 7250.0|      80.0|110887.0|            GASOLINA|110|           1|         0|1600|         3|   1055|                   0.0|\n",
            "| 9450.0|      80.0| 66843.0|            GASOLINA|110|           1|         0|1600|         5|   1075|                   0.0|\n",
            "|16500.0|      27.0| 37177.0|            GASOLINA|110|           0|         0|1600|         5|   1130|                   0.0|\n",
            "| 9250.0|      63.0|102807.0|            GASOLINA| 86|           0|         0|1300|         5|   1055|                   0.0|\n",
            "| 6900.0|      69.0|146304.0|              DIESEL| 72|           1|         0|2000|         3|   1115|                   1.0|\n",
            "|11950.0|      56.0| 33998.0|            GASOLINA|110|           0|         0|1600|         5|   1080|                   0.0|\n",
            "| 9950.0|      61.0| 97425.0|            GASOLINA|110|           1|         0|1600|         5|   1075|                   0.0|\n",
            "| 8450.0|      69.0| 74573.0|            GASOLINA|110|           1|         0|1600|         5|   1085|                   0.0|\n",
            "+-------+----------+--------+--------------------+---+------------+----------+----+----------+-------+----------------------+\n",
            "only showing top 20 rows\n",
            "\n"
          ],
          "name": "stdout"
        }
      ]
    },
    {
      "cell_type": "markdown",
      "metadata": {
        "id": "ZnymM4krAMSR",
        "colab_type": "text"
      },
      "source": [
        "Repare que foi adicionada uma nova coluna chamada **TIPO_COMBUSTIVEL_index** com a representação numérica mencionada.\n",
        "\n",
        "Também vamos utilizar a técnica de `OneHotEncoder` para transformação vetorial binária da variável que foi indexada (uma lista mais completa das técnicas pode ser encontrada no [link](https://spark.apache.org/docs/latest/ml-features.html) ). Para otimização deste processo ainda não vamos executar as transformações, vamos criar `Stages` (estágios de processamento das transformações) que serão posteriormente colocadas em um `Pipeline`)."
      ]
    },
    {
      "cell_type": "code",
      "metadata": {
        "id": "4BPJABmdAMSS",
        "colab_type": "code",
        "colab": {}
      },
      "source": [
        "from pyspark.ml.feature import OneHotEncoder\n",
        "\n",
        "encoder = OneHotEncoder(inputCols=[\"TIPO_COMBUSTIVEL_index\"],\n",
        "                                 outputCols=[\"TIPO_COMBUSTIVEL_vetor\"])\n",
        "\n",
        "stages = [indexer, encoder]"
      ],
      "execution_count": 34,
      "outputs": []
    },
    {
      "cell_type": "markdown",
      "metadata": {
        "id": "9U4tVPslAMSV",
        "colab_type": "text"
      },
      "source": [
        "A variável `stages` contém os estágios de `StringIndexer` e `OneHotEncoder`, além deles utilizaremos também a técnica de `VectorAssembler` para consolidar todas as variáveis (features) que serão utilizadas para treinamento do modelo e adicionaremos mais este estágio na variável `stages`."
      ]
    },
    {
      "cell_type": "code",
      "metadata": {
        "id": "YpWEHlmwAMSW",
        "colab_type": "code",
        "colab": {}
      },
      "source": [
        "from pyspark.ml.feature import VectorAssembler\n",
        "colunas_treino = ['IDADE_ANOS', 'KM', 'HP', 'COR_METALICA', 'AUTOMATICO', 'CC', 'QTD_PORTAS', 'PESO_KG', 'TIPO_COMBUSTIVEL_vetor']\n",
        "\n",
        "assembler = VectorAssembler(inputCols=colunas_treino, outputCol=\"features\")\n",
        "stages += [assembler]"
      ],
      "execution_count": 35,
      "outputs": []
    },
    {
      "cell_type": "markdown",
      "metadata": {
        "id": "oqCUKMoCAMSg",
        "colab_type": "text"
      },
      "source": [
        "Com os estágios de tratamento já definidos devemos agora dividir o conjunto de dados entre dados de treino (utilizado para treinar o modelo) e testes (utilizado para avaliar a performance do modelo). Utilizaremos a proporção de 80% para treino e 20% para teste."
      ]
    },
    {
      "cell_type": "code",
      "metadata": {
        "id": "cNzG0OcOAMSg",
        "colab_type": "code",
        "colab": {}
      },
      "source": [
        "treino, teste = carros_usados.randomSplit([0.8, 0.2])"
      ],
      "execution_count": 36,
      "outputs": []
    },
    {
      "cell_type": "markdown",
      "metadata": {
        "id": "ibG_LimDAMSk",
        "colab_type": "text"
      },
      "source": [
        "Com isso, finalmente 😆 podemos então realizar o treinamento de um modelo de Regressão Linear Simples.\n",
        "\n",
        "Para isso vamos adicioná-lo no [`Pipeline`](https://spark.apache.org/docs/latest/api/python/pyspark.ml.html?highlight=onehotencoder#pyspark.ml.Pipeline) em conjunto com os outros estágios de tratamento de dados."
      ]
    },
    {
      "cell_type": "code",
      "metadata": {
        "id": "HTd-CWSdAMSk",
        "colab_type": "code",
        "colab": {}
      },
      "source": [
        "from pyspark.ml.regression import LinearRegression\n",
        "from pyspark.ml import Pipeline\n",
        "\n",
        "lr = LinearRegression(featuresCol = 'features', labelCol='PRECO')\n",
        "stages += [lr]\n",
        " \n",
        "partialPipeline = Pipeline().setStages(stages)\n",
        "model = partialPipeline.fit(treino)"
      ],
      "execution_count": 37,
      "outputs": []
    },
    {
      "cell_type": "markdown",
      "metadata": {
        "id": "z8gvIl3cAMSv",
        "colab_type": "text"
      },
      "source": [
        "##Persistir o modelo\n",
        "\n",
        "Para ser possível a reutilização do modelo treinado podemos persisti-lo para que possa ser carregado posteriormente (sem a necessidade de re-treinamento)."
      ]
    },
    {
      "cell_type": "markdown",
      "metadata": {
        "id": "z6n3w_rBAMSw",
        "colab_type": "text"
      },
      "source": [
        "Mount Google Drive to save sample levels as they are generated."
      ]
    },
    {
      "cell_type": "code",
      "metadata": {
        "id": "a4dXwiZoTUTP",
        "colab_type": "code",
        "colab": {
          "base_uri": "https://localhost:8080/",
          "height": 34
        },
        "outputId": "af12b545-f278-46ef-f133-1d3637483a24"
      },
      "source": [
        "from google.colab import drive\n",
        "drive.mount('/content/gdrive')"
      ],
      "execution_count": 41,
      "outputs": [
        {
          "output_type": "stream",
          "text": [
            "Mounted at /content/gdrive\n"
          ],
          "name": "stdout"
        }
      ]
    },
    {
      "cell_type": "code",
      "metadata": {
        "id": "2tNfuJT3AMSw",
        "colab_type": "code",
        "colab": {}
      },
      "source": [
        "# Persist model\n",
        "model_save_name = 'carros_usados_model'\n",
        "path = F\"/content/gdrive/My Drive/{model_save_name}\" \n",
        "model.save(path)"
      ],
      "execution_count": 47,
      "outputs": []
    },
    {
      "cell_type": "code",
      "metadata": {
        "id": "O4y5QfagWUK4",
        "colab_type": "code",
        "colab": {}
      },
      "source": [
        "# Load model\n",
        "from pyspark.ml import PipelineModel\n",
        "model = PipelineModel.load(path)"
      ],
      "execution_count": 52,
      "outputs": []
    },
    {
      "cell_type": "markdown",
      "metadata": {
        "id": "epXmvl6QAMSz",
        "colab_type": "text"
      },
      "source": [
        "Agora podemos também utilizar o modelo para fazer as predições na base de teste"
      ]
    },
    {
      "cell_type": "markdown",
      "metadata": {
        "id": "y0V9VvTBAMS0",
        "colab_type": "text"
      },
      "source": [
        "## Predições na base TESTE"
      ]
    },
    {
      "cell_type": "code",
      "metadata": {
        "id": "YgxvAxlIAMS0",
        "colab_type": "code",
        "colab": {
          "base_uri": "https://localhost:8080/",
          "height": 224
        },
        "outputId": "975d23ba-f611-489f-ab6e-2c2fca77bb25"
      },
      "source": [
        "predicoes = model.transform(teste)\n",
        "\n",
        "predicoes.show(n=5)"
      ],
      "execution_count": 53,
      "outputs": [
        {
          "output_type": "stream",
          "text": [
            "+------+----------+--------+----------------+---+------------+----------+----+----------+-------+----------------------+----------------------+--------------------+------------------+\n",
            "| PRECO|IDADE_ANOS|      KM|TIPO_COMBUSTIVEL| HP|COR_METALICA|AUTOMATICO|  CC|QTD_PORTAS|PESO_KG|TIPO_COMBUSTIVEL_index|TIPO_COMBUSTIVEL_vetor|            features|        prediction|\n",
            "+------+----------+--------+----------------+---+------------+----------+----+----------+-------+----------------------+----------------------+--------------------+------------------+\n",
            "|5150.0|      56.0|113997.0|          DIESEL| 72|           1|         0|2000|         5|   1135|                   1.0|         (3,[1],[1.0])|[56.0,113997.0,72...| 9586.500678356479|\n",
            "|5750.0|      76.0|183277.0|          DIESEL| 72|           0|         0|2000|         3|   1115|                   1.0|         (3,[1],[1.0])|[76.0,183277.0,72...| 5595.209481516402|\n",
            "|5950.0|      72.0|105856.0|        GASOLINA| 86|           0|         0|1300|         3|   1015|                   0.0|         (3,[0],[1.0])|[72.0,105856.0,86...|6918.4659772946925|\n",
            "|5950.0|      75.0| 74567.0|        GASOLINA| 86|           1|         0|1300|         3|   1015|                   0.0|         (3,[0],[1.0])|[75.0,74567.0,86....| 7069.376152407645|\n",
            "|5950.0|      77.0|145996.0|        GASOLINA|110|           0|         0|1600|         4|   1035|                   0.0|         (3,[0],[1.0])|[77.0,145996.0,11...|6187.5634131358565|\n",
            "+------+----------+--------+----------------+---+------------+----------+----+----------+-------+----------------------+----------------------+--------------------+------------------+\n",
            "only showing top 5 rows\n",
            "\n"
          ],
          "name": "stdout"
        }
      ]
    },
    {
      "cell_type": "markdown",
      "metadata": {
        "id": "yodTUue3AMS4",
        "colab_type": "text"
      },
      "source": [
        "## Podemos também analisar os resultados das predições\n",
        "\n",
        "Com o modelo treinado e as predições realizadas, vamos analisar a métrica de Erro quadrático médio [RSME](https://en.wikipedia.org/wiki/Root-mean-square_deviation)."
      ]
    },
    {
      "cell_type": "code",
      "metadata": {
        "id": "iQcFhohCAMS5",
        "colab_type": "code",
        "colab": {
          "base_uri": "https://localhost:8080/",
          "height": 34
        },
        "outputId": "ee41212e-84a6-455e-c225-44c14c1c2bb0"
      },
      "source": [
        "from pyspark.ml.evaluation import RegressionEvaluator\n",
        "\n",
        "\n",
        "evaluator = RegressionEvaluator(labelCol=\"PRECO\", predictionCol=\"prediction\", metricName=\"rmse\")\n",
        "rmse = evaluator.evaluate(predicoes)\n",
        "\n",
        "print(\"RMSE na base TESTE = %g\" % rmse)"
      ],
      "execution_count": 39,
      "outputs": [
        {
          "output_type": "stream",
          "text": [
            "RMSE na base TESTE = 1211.01\n"
          ],
          "name": "stdout"
        }
      ]
    },
    {
      "cell_type": "markdown",
      "metadata": {
        "id": "gcj4GNZxAMS9",
        "colab_type": "text"
      },
      "source": [
        "### Podemos comparar graficamente o \"ERRO\" das predições realizadas com relação ao valor real de PREÇO."
      ]
    },
    {
      "cell_type": "code",
      "metadata": {
        "id": "iJ3t6RL7AMS-",
        "colab_type": "code",
        "colab": {
          "base_uri": "https://localhost:8080/",
          "height": 590
        },
        "outputId": "1771eb3e-6a8b-4eb3-afd5-d587abc1fae2"
      },
      "source": [
        "from sklearn import metrics\n",
        "\n",
        "fig, ax = plt.subplots()\n",
        "\n",
        "y_pred = predicoes.toPandas().prediction\n",
        "y_test = predicoes.toPandas().PRECO\n",
        "\n",
        "# Make a list of all the errors in the test-dataset:\n",
        "errors = (y_pred - y_test)\n",
        "\n",
        "### Populate the figure\n",
        "# Plot the test-data:\n",
        "plt.scatter(teste.toPandas().PRECO, errors, color='red', edgecolors='black')\n",
        "\n",
        "# Set various labels\n",
        "plt.ylabel('ERROS')\n",
        "plt.xlabel('PREÇO')\n",
        "\n",
        "plt.title('Erros em $ por Preço')\n",
        "\n",
        "# Extras?\n",
        "plt.grid() # Turn plot-grid on\n",
        "plt.legend()\n",
        "\n",
        "# Show figure\n",
        "display(fig)"
      ],
      "execution_count": 40,
      "outputs": [
        {
          "output_type": "stream",
          "text": [
            "No handles with labels found to put in legend.\n"
          ],
          "name": "stderr"
        },
        {
          "output_type": "display_data",
          "data": {
            "image/png": "[encoded data removed]",
            "text/plain": [
              "<Figure size 432x288 with 1 Axes>"
            ]
          },
          "metadata": {
            "tags": []
          }
        },
        {
          "output_type": "display_data",
          "data": {
            "image/png": "[encoded data removed]",
            "text/plain": [
              "<Figure size 432x288 with 1 Axes>"
            ]
          },
          "metadata": {
            "tags": [],
            "needs_background": "light"
          }
        }
      ]
    }
  ]
}